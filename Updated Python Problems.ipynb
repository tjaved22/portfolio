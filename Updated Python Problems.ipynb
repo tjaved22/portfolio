{
 "cells": [
  {
   "cell_type": "code",
   "execution_count": 1,
   "id": "static-minutes",
   "metadata": {},
   "outputs": [
    {
     "ename": "SyntaxError",
     "evalue": "invalid character '➞' (U+279E) (<ipython-input-1-f76032605357>, line 5)",
     "output_type": "error",
     "traceback": [
      "\u001b[0;36m  File \u001b[0;32m\"<ipython-input-1-f76032605357>\"\u001b[0;36m, line \u001b[0;32m5\u001b[0m\n\u001b[0;31m    }) ➞ 14796\u001b[0m\n\u001b[0m       ^\u001b[0m\n\u001b[0;31mSyntaxError\u001b[0m\u001b[0;31m:\u001b[0m invalid character '➞' (U+279E)\n"
     ]
    }
   ],
   "source": [
    "profit({\n",
    "  \"cost_price\": 32.67,\n",
    "  \"sell_price\": 45.00,\n",
    "  \"inventory\": 1200\n",
    "}) ➞ 14796\n"
   ]
  },
  {
   "cell_type": "code",
   "execution_count": 25,
   "id": "fallen-physics",
   "metadata": {},
   "outputs": [
    {
     "name": "stdout",
     "output_type": "stream",
     "text": [
      "14796\n",
      "32411\n"
     ]
    }
   ],
   "source": [
    "profit = [{\"cost_price\": 32.67, \n",
    "           \"sell_price\": 45.00, \n",
    "           \"inventory\": 1200},{\n",
    "  \"cost_price\": 225.89,\n",
    "  \"sell_price\": 550.00,\n",
    "  \"inventory\": 100\n",
    "}]\n",
    "\n",
    "\n",
    "\n",
    "for i in profit:\n",
    "    x= i[\"cost_price\"]\n",
    "    y= i[\"sell_price\"]\n",
    "    u= i[\"inventory\"]\n",
    "    amount_of_profit = (y-x)*u\n",
    "    print(round(amount_of_profit))\n",
    "\n"
   ]
  },
  {
   "cell_type": "code",
   "execution_count": 26,
   "id": "announced-singles",
   "metadata": {},
   "outputs": [
    {
     "name": "stdout",
     "output_type": "stream",
     "text": [
      "14796\n",
      "32411\n"
     ]
    }
   ],
   "source": [
    "profit = [{\"cost_price\": 32.67, \n",
    "           \"sell_price\": 45.00, \n",
    "           \"inventory\": 1200},{\n",
    "  \"cost_price\": 225.89,\n",
    "  \"sell_price\": 550.00,\n",
    "  \"inventory\": 100\n",
    "}]\n",
    "\n",
    "\n",
    "\n",
    "    \n",
    "def amount_of_profit (total_sales, total_cost):\n",
    "    return total_sales - total_cost\n",
    "\n",
    "\n",
    "for i in profit:\n",
    "    print(round(amount_of_profit( total_sales = i[\"sell_price\"], total_cost = i[\"cost_price\"])*i[\"inventory\"]))"
   ]
  },
  {
   "cell_type": "code",
   "execution_count": 28,
   "id": "responsible-blogger",
   "metadata": {},
   "outputs": [],
   "source": [
    "#Stuttering Function"
   ]
  },
  {
   "cell_type": "code",
   "execution_count": 33,
   "id": "correct-surveillance",
   "metadata": {},
   "outputs": [],
   "source": [
    "def stutter(word):\n",
    "    finalword= str(word[0:2]) + \"... \" + str(word[0:2]) + \"... \" + word + \"?\"\n",
    "    return finalword\n",
    "    \n",
    "    "
   ]
  },
  {
   "cell_type": "code",
   "execution_count": 34,
   "id": "delayed-brother",
   "metadata": {},
   "outputs": [
    {
     "data": {
      "text/plain": [
       "'in... in... incredible?'"
      ]
     },
     "execution_count": 34,
     "metadata": {},
     "output_type": "execute_result"
    }
   ],
   "source": [
    "stutter(\"incredible\")"
   ]
  },
  {
   "cell_type": "code",
   "execution_count": 35,
   "id": "sudden-customs",
   "metadata": {},
   "outputs": [],
   "source": [
    "#Radians to Degrees"
   ]
  },
  {
   "cell_type": "code",
   "execution_count": 46,
   "id": "corporate-singles",
   "metadata": {},
   "outputs": [],
   "source": [
    "def calculator(variable1 = 2, math = \"+\", variable3 = 2):\n",
    "    if math == \"+\":\n",
    "        return variable1 + variable3\n",
    "    if math == \"*\":\n",
    "        return variable1 * variable3\n",
    "    if math == \"/\":\n",
    "        return variable1 / variable3\n",
    "    if math == \"-\":\n",
    "        return variable1 - variable3\n",
    "    "
   ]
  },
  {
   "cell_type": "code",
   "execution_count": 49,
   "id": "black-warrior",
   "metadata": {},
   "outputs": [
    {
     "data": {
      "text/plain": [
       "1.0"
      ]
     },
     "execution_count": 49,
     "metadata": {},
     "output_type": "execute_result"
    }
   ],
   "source": [
    "calculator(2,\"/\",2)"
   ]
  },
  {
   "cell_type": "code",
   "execution_count": 50,
   "id": "popular-senior",
   "metadata": {},
   "outputs": [],
   "source": [
    "#How Many Vowels"
   ]
  },
  {
   "cell_type": "code",
   "execution_count": 60,
   "id": "structural-nomination",
   "metadata": {},
   "outputs": [],
   "source": [
    "def count_vowels(word = \"celebration\"):\n",
    "    vowels = [\"a\",\"e\",\"i\",\"o\",\"u\"]\n",
    "    counter = 0\n",
    "    for i in word:\n",
    "        if i in vowels:\n",
    "            counter += 1\n",
    "    return str(counter)\n",
    "        "
   ]
  },
  {
   "cell_type": "code",
   "execution_count": 61,
   "id": "eastern-support",
   "metadata": {},
   "outputs": [
    {
     "data": {
      "text/plain": [
       "'2'"
      ]
     },
     "execution_count": 61,
     "metadata": {},
     "output_type": "execute_result"
    }
   ],
   "source": [
    "count_vowels(\"there\")"
   ]
  },
  {
   "cell_type": "code",
   "execution_count": 62,
   "id": "surface-colorado",
   "metadata": {},
   "outputs": [],
   "source": [
    "#Hiding Card Number"
   ]
  },
  {
   "cell_type": "code",
   "execution_count": 74,
   "id": "asian-orbit",
   "metadata": {},
   "outputs": [],
   "source": [
    "def card_hide(cardnumber = \"1234123456785678\"):\n",
    "    finalnumber = \"*********\" + str(cardnumber[12:16]) \n",
    "    return finalnumber"
   ]
  },
  {
   "cell_type": "code",
   "execution_count": 75,
   "id": "variable-reasoning",
   "metadata": {},
   "outputs": [
    {
     "data": {
      "text/plain": [
       "'*********3213'"
      ]
     },
     "execution_count": 75,
     "metadata": {},
     "output_type": "execute_result"
    }
   ],
   "source": [
    "card_hide(\"8754456321113213\")"
   ]
  },
  {
   "cell_type": "code",
   "execution_count": 76,
   "id": "complete-finder",
   "metadata": {},
   "outputs": [
    {
     "name": "stdout",
     "output_type": "stream",
     "text": [
      "1Tigers\n",
      "2Tigers\n"
     ]
    }
   ],
   "source": [
    "animals = [\"tiger\", \"tiger\", \"lion\", \"zebra\"]\n",
    "total=0\n",
    "for i in animals:\n",
    "    if i == \"tiger\":\n",
    "        total+=1\n",
    "        print(str(total)+\"Tigers\")"
   ]
  },
  {
   "cell_type": "code",
   "execution_count": 79,
   "id": "happy-supplement",
   "metadata": {},
   "outputs": [
    {
     "name": "stdout",
     "output_type": "stream",
     "text": [
      "['b', 'r']different letters\n",
      "['b', 'b']same letters\n",
      "['blue', 'black', 'blue']same\n",
      "['red']other\n"
     ]
    }
   ],
   "source": [
    "colors=[\"blue\", \"red\", \"black\", \"blue\"]\n",
    "a=[]\n",
    "b=[]\n",
    "single=[]\n",
    "double=[]\n",
    "for i in colors:\n",
    "    letters=i[0]\n",
    "    if letters not in a:\n",
    "        a.append(letters)\n",
    "    else:\n",
    "        b.append(letters)\n",
    "print(str(a)+\"different letters\")\n",
    "print(str(b)+\"same letters\")\n",
    "\n",
    "for i in colors:\n",
    "    letters=i[0]\n",
    "    if letters in b:\n",
    "        double.append(i)\n",
    "    else:\n",
    "        single.append(i)\n",
    "print(str(double)+\"same\")\n",
    "print(str(single)+\"other\")"
   ]
  },
  {
   "cell_type": "code",
   "execution_count": 80,
   "id": "institutional-mention",
   "metadata": {},
   "outputs": [
    {
     "name": "stdout",
     "output_type": "stream",
     "text": [
      "this is outside the function\n"
     ]
    }
   ],
   "source": [
    "def function1():\n",
    "    print(\"ahh\")\n",
    "    print(\"ahhhh 2\")\n",
    "print(\"this is outside the function\")"
   ]
  },
  {
   "cell_type": "code",
   "execution_count": 81,
   "id": "driven-directive",
   "metadata": {},
   "outputs": [
    {
     "name": "stdout",
     "output_type": "stream",
     "text": [
      "ahh\n",
      "ahhhh 2\n"
     ]
    }
   ],
   "source": [
    "function1()\n"
   ]
  },
  {
   "cell_type": "code",
   "execution_count": 84,
   "id": "dietary-bacteria",
   "metadata": {},
   "outputs": [
    {
     "name": "stdout",
     "output_type": "stream",
     "text": [
      "ahh\n",
      "ahhhh 2\n",
      "ahh\n",
      "ahhhh 2\n"
     ]
    }
   ],
   "source": [
    "function1()\n",
    "function1()\n"
   ]
  },
  {
   "cell_type": "code",
   "execution_count": 85,
   "id": "otherwise-simon",
   "metadata": {},
   "outputs": [],
   "source": [
    "def function2(x):\n",
    "    return 2*x"
   ]
  },
  {
   "cell_type": "code",
   "execution_count": 87,
   "id": "composite-protest",
   "metadata": {},
   "outputs": [],
   "source": [
    "a=function2(3)"
   ]
  },
  {
   "cell_type": "code",
   "execution_count": 88,
   "id": "painted-console",
   "metadata": {},
   "outputs": [
    {
     "name": "stdout",
     "output_type": "stream",
     "text": [
      "6\n"
     ]
    }
   ],
   "source": [
    "print(a)"
   ]
  },
  {
   "cell_type": "code",
   "execution_count": 89,
   "id": "retired-preparation",
   "metadata": {},
   "outputs": [],
   "source": [
    "b=function2(4)"
   ]
  },
  {
   "cell_type": "code",
   "execution_count": 90,
   "id": "sonic-sunset",
   "metadata": {},
   "outputs": [
    {
     "name": "stdout",
     "output_type": "stream",
     "text": [
      "8\n"
     ]
    }
   ],
   "source": [
    "print(b)"
   ]
  },
  {
   "cell_type": "code",
   "execution_count": 91,
   "id": "surprising-prevention",
   "metadata": {},
   "outputs": [
    {
     "name": "stdout",
     "output_type": "stream",
     "text": [
      "10\n"
     ]
    }
   ],
   "source": [
    "c=function2(5)\n",
    "print(c)"
   ]
  },
  {
   "cell_type": "code",
   "execution_count": 92,
   "id": "opposite-africa",
   "metadata": {},
   "outputs": [
    {
     "ename": "TypeError",
     "evalue": "function2() missing 1 required positional argument: 'x'",
     "output_type": "error",
     "traceback": [
      "\u001b[0;31m---------------------------------------------------------------------------\u001b[0m",
      "\u001b[0;31mTypeError\u001b[0m                                 Traceback (most recent call last)",
      "\u001b[0;32m<ipython-input-92-9aa6cbd6b7fb>\u001b[0m in \u001b[0;36m<module>\u001b[0;34m\u001b[0m\n\u001b[0;32m----> 1\u001b[0;31m \u001b[0md\u001b[0m\u001b[0;34m=\u001b[0m\u001b[0mfunction2\u001b[0m\u001b[0;34m(\u001b[0m\u001b[0;34m)\u001b[0m\u001b[0;34m\u001b[0m\u001b[0;34m\u001b[0m\u001b[0m\n\u001b[0m",
      "\u001b[0;31mTypeError\u001b[0m: function2() missing 1 required positional argument: 'x'"
     ]
    }
   ],
   "source": [
    "d=function2()"
   ]
  },
  {
   "cell_type": "code",
   "execution_count": 93,
   "id": "legitimate-activity",
   "metadata": {},
   "outputs": [],
   "source": [
    "def function3(x,y):\n",
    "    return x + y"
   ]
  },
  {
   "cell_type": "code",
   "execution_count": 94,
   "id": "appreciated-parks",
   "metadata": {},
   "outputs": [
    {
     "name": "stdout",
     "output_type": "stream",
     "text": [
      "3\n"
     ]
    }
   ],
   "source": [
    "e=function3(1,2)\n",
    "print(e)"
   ]
  },
  {
   "cell_type": "code",
   "execution_count": 95,
   "id": "polar-being",
   "metadata": {},
   "outputs": [],
   "source": [
    "def function4(x):\n",
    "    print(x)\n",
    "    print(\"still in this function\")\n",
    "    return 3*x"
   ]
  },
  {
   "cell_type": "code",
   "execution_count": 96,
   "id": "proved-treaty",
   "metadata": {},
   "outputs": [
    {
     "name": "stdout",
     "output_type": "stream",
     "text": [
      "4\n",
      "still in this function\n"
     ]
    }
   ],
   "source": [
    "f=function4(4)"
   ]
  },
  {
   "cell_type": "code",
   "execution_count": 97,
   "id": "proof-nickel",
   "metadata": {},
   "outputs": [
    {
     "name": "stdout",
     "output_type": "stream",
     "text": [
      "12\n"
     ]
    }
   ],
   "source": [
    "print(f)\n"
   ]
  },
  {
   "cell_type": "code",
   "execution_count": 98,
   "id": "pressed-galaxy",
   "metadata": {},
   "outputs": [],
   "source": [
    "def function5(some_argument):\n",
    "    print(some_argument)\n",
    "    print(\"weeee\")"
   ]
  },
  {
   "cell_type": "code",
   "execution_count": 99,
   "id": "pharmaceutical-reason",
   "metadata": {},
   "outputs": [
    {
     "name": "stdout",
     "output_type": "stream",
     "text": [
      "4\n",
      "weeee\n"
     ]
    }
   ],
   "source": [
    "function5(4)"
   ]
  },
  {
   "cell_type": "code",
   "execution_count": 115,
   "id": "urban-input",
   "metadata": {},
   "outputs": [],
   "source": [
    "name1 = \"YK\"\n",
    "height_m1 = 2\n",
    "weight_kg1 = 90\n",
    "\n",
    "name2 = \"YK's sister\"\n",
    "height_m2 = 1.8\n",
    "weight_kg2 = 70\n",
    "\n",
    "name3 = \"YK's brother\"\n",
    "height_m3 = 2.5\n",
    "weight_kg3 = 160"
   ]
  },
  {
   "cell_type": "code",
   "execution_count": 116,
   "id": "systematic-retro",
   "metadata": {},
   "outputs": [],
   "source": [
    "def bmi_calculator(name, height_m, weight_kg):\n",
    "    bmi=weight_kg/(height_m**2)\n",
    "    print(\"bmi\")\n",
    "    print(bmi)\n",
    "    if bmi<25:\n",
    "        return name + \"not overweight\"\n",
    "    else:\n",
    "        return name + \"is overweight\""
   ]
  },
  {
   "cell_type": "code",
   "execution_count": 117,
   "id": "parliamentary-grass",
   "metadata": {},
   "outputs": [
    {
     "name": "stdout",
     "output_type": "stream",
     "text": [
      "bmi\n",
      "22.5\n",
      "bmi\n",
      "21.604938271604937\n",
      "bmi\n",
      "25.6\n"
     ]
    }
   ],
   "source": [
    "result1 = bmi_calculator(name1, height_m1, weight_kg1)\n",
    "result1 = bmi_calculator(name2, height_m2, weight_kg2)\n",
    "result1 = bmi_calculator(name3, height_m3, weight_kg3)"
   ]
  },
  {
   "cell_type": "code",
   "execution_count": 119,
   "id": "another-manual",
   "metadata": {},
   "outputs": [],
   "source": [
    "#km = convert(miles)\n",
    "#km=1.6 *miles\n",
    "\n",
    "def km(miles):\n",
    "    km=1.6*miles\n",
    "    print(\"miles from km\")\n",
    "    print(km)\n"
   ]
  },
  {
   "cell_type": "code",
   "execution_count": 120,
   "id": "sized-moldova",
   "metadata": {},
   "outputs": [
    {
     "name": "stdout",
     "output_type": "stream",
     "text": [
      "miles from km\n",
      "16.0\n"
     ]
    }
   ],
   "source": [
    "km(10)"
   ]
  },
  {
   "cell_type": "code",
   "execution_count": 150,
   "id": "tribal-ordinary",
   "metadata": {},
   "outputs": [],
   "source": [
    "def num_layers(x):\n",
    "    meters = 0.5/1000\n",
    "    nm=0.5\n",
    "    num_layers=(x**2)\n",
    "    return num_layers*nm\n",
    "    "
   ]
  },
  {
   "cell_type": "code",
   "execution_count": 152,
   "id": "angry-vinyl",
   "metadata": {},
   "outputs": [
    {
     "data": {
      "text/plain": [
       "220.5"
      ]
     },
     "execution_count": 152,
     "metadata": {},
     "output_type": "execute_result"
    }
   ],
   "source": [
    "num_layers(21)"
   ]
  },
  {
   "cell_type": "code",
   "execution_count": 171,
   "id": "metric-repeat",
   "metadata": {},
   "outputs": [],
   "source": [
    "def index_of_caps(x):\n",
    "    for i in x:\n",
    "        if i == i.upper():\n",
    "            return index(i.upper())"
   ]
  },
  {
   "cell_type": "code",
   "execution_count": 172,
   "id": "domestic-identity",
   "metadata": {},
   "outputs": [
    {
     "ename": "NameError",
     "evalue": "name 'index' is not defined",
     "output_type": "error",
     "traceback": [
      "\u001b[0;31m---------------------------------------------------------------------------\u001b[0m",
      "\u001b[0;31mNameError\u001b[0m                                 Traceback (most recent call last)",
      "\u001b[0;32m<ipython-input-172-8a77d9483074>\u001b[0m in \u001b[0;36m<module>\u001b[0;34m\u001b[0m\n\u001b[0;32m----> 1\u001b[0;31m \u001b[0mindex_of_caps\u001b[0m\u001b[0;34m(\u001b[0m\u001b[0;34m\"eDaBiT\"\u001b[0m\u001b[0;34m)\u001b[0m\u001b[0;34m\u001b[0m\u001b[0;34m\u001b[0m\u001b[0m\n\u001b[0m",
      "\u001b[0;32m<ipython-input-171-9b5c930e0526>\u001b[0m in \u001b[0;36mindex_of_caps\u001b[0;34m(x)\u001b[0m\n\u001b[1;32m      2\u001b[0m     \u001b[0;32mfor\u001b[0m \u001b[0mi\u001b[0m \u001b[0;32min\u001b[0m \u001b[0mx\u001b[0m\u001b[0;34m:\u001b[0m\u001b[0;34m\u001b[0m\u001b[0;34m\u001b[0m\u001b[0m\n\u001b[1;32m      3\u001b[0m         \u001b[0;32mif\u001b[0m \u001b[0mi\u001b[0m \u001b[0;34m==\u001b[0m \u001b[0mi\u001b[0m\u001b[0;34m.\u001b[0m\u001b[0mupper\u001b[0m\u001b[0;34m(\u001b[0m\u001b[0;34m)\u001b[0m\u001b[0;34m:\u001b[0m\u001b[0;34m\u001b[0m\u001b[0;34m\u001b[0m\u001b[0m\n\u001b[0;32m----> 4\u001b[0;31m             \u001b[0;32mreturn\u001b[0m \u001b[0mindex\u001b[0m\u001b[0;34m(\u001b[0m\u001b[0mi\u001b[0m\u001b[0;34m.\u001b[0m\u001b[0mupper\u001b[0m\u001b[0;34m(\u001b[0m\u001b[0;34m)\u001b[0m\u001b[0;34m)\u001b[0m\u001b[0;34m\u001b[0m\u001b[0;34m\u001b[0m\u001b[0m\n\u001b[0m",
      "\u001b[0;31mNameError\u001b[0m: name 'index' is not defined"
     ]
    }
   ],
   "source": [
    "index_of_caps(\"eDaBiT\")"
   ]
  },
  {
   "cell_type": "code",
   "execution_count": 187,
   "id": "neural-tobacco",
   "metadata": {},
   "outputs": [],
   "source": [
    "def index_of_caps(x):\n",
    "    values=[]\n",
    "    for i in range(len(x)):\n",
    "        if x[i] == x[i].upper():\n",
    "            values.append(i)\n",
    "    return values\n",
    "\n",
    "        \n",
    "            "
   ]
  },
  {
   "cell_type": "code",
   "execution_count": 188,
   "id": "fantastic-lightweight",
   "metadata": {},
   "outputs": [
    {
     "data": {
      "text/plain": [
       "[1, 3, 5]"
      ]
     },
     "execution_count": 188,
     "metadata": {},
     "output_type": "execute_result"
    }
   ],
   "source": [
    "index_of_caps(\"eDaBiT\")"
   ]
  },
  {
   "cell_type": "code",
   "execution_count": 216,
   "id": "whole-harris",
   "metadata": {},
   "outputs": [],
   "source": [
    "def find_even_nums(x):\n",
    "    values = []\n",
    "    for i in range(1,x+1):\n",
    "        if (i % 2) == 0:\n",
    "            values.append(i)\n",
    "    return values"
   ]
  },
  {
   "cell_type": "code",
   "execution_count": 217,
   "id": "direct-linux",
   "metadata": {},
   "outputs": [
    {
     "data": {
      "text/plain": [
       "[2, 4, 6, 8]"
      ]
     },
     "execution_count": 217,
     "metadata": {},
     "output_type": "execute_result"
    }
   ],
   "source": [
    "find_even_nums(8)"
   ]
  },
  {
   "cell_type": "code",
   "execution_count": 228,
   "id": "serial-auckland",
   "metadata": {},
   "outputs": [],
   "source": [
    "def get_budgets(x=[\n",
    "  { \"name\": \"John\", \"age\": 21, \"budget\": 23000 },\n",
    "  { \"name\": \"Steve\",  \"age\": 32, \"budget\": 40000 },\n",
    "  { \"name\": \"Martin\",  \"age\": 16, \"budget\": 2700 }\n",
    "]):\n",
    "    value=0\n",
    "    for i in range(len(x)):\n",
    "        value+=x[i][\"budget\"]\n",
    "    return value\n",
    "        \n",
    "        \n",
    "    "
   ]
  },
  {
   "cell_type": "code",
   "execution_count": 229,
   "id": "czech-opera",
   "metadata": {},
   "outputs": [
    {
     "data": {
      "text/plain": [
       "65700"
      ]
     },
     "execution_count": 229,
     "metadata": {},
     "output_type": "execute_result"
    }
   ],
   "source": [
    "get_budgets()"
   ]
  },
  {
   "cell_type": "code",
   "execution_count": 242,
   "id": "present-brief",
   "metadata": {},
   "outputs": [],
   "source": [
    "def is_automorphix(n):\n",
    "    number = n**2\n",
    "    if int(str(number)[-1])==n:\n",
    "        print(\"True\")\n",
    "    else:\n",
    "        print(\"False\")"
   ]
  },
  {
   "cell_type": "code",
   "execution_count": 243,
   "id": "fancy-layer",
   "metadata": {},
   "outputs": [
    {
     "name": "stdout",
     "output_type": "stream",
     "text": [
      "True\n"
     ]
    }
   ],
   "source": [
    "is_automorphix(5)"
   ]
  },
  {
   "cell_type": "code",
   "execution_count": 251,
   "id": "demonstrated-disclosure",
   "metadata": {},
   "outputs": [],
   "source": [
    "def eda_bit(x,y):\n",
    "    savesomething = []\n",
    "    for i in range(x,y+1):\n",
    "        if i == 0:\n",
    "            savesomething.append(\"EdaBit\")\n",
    "        elif i%3 == 0 & i%5 == 0:\n",
    "            savesomething.append(\"EdaBit\")\n",
    "        elif i%3 == 0:\n",
    "            savesomething.append(\"Eda\")\n",
    "        elif i%5 == 0:\n",
    "            savesomething.append(\"Bit\")\n",
    "        else:\n",
    "            savesomething.append(i)\n",
    "    return savesomething"
   ]
  },
  {
   "cell_type": "code",
   "execution_count": 252,
   "id": "administrative-bridges",
   "metadata": {},
   "outputs": [
    {
     "data": {
      "text/plain": [
       "['EdaBit', 1, 2, 'EdaBit', 4, 'Bit', 'EdaBit', 7, 8, 'EdaBit', 'Bit']"
      ]
     },
     "execution_count": 252,
     "metadata": {},
     "output_type": "execute_result"
    }
   ],
   "source": [
    "eda_bit(0,10)"
   ]
  },
  {
   "cell_type": "code",
   "execution_count": 256,
   "id": "difficult-lebanon",
   "metadata": {},
   "outputs": [
    {
     "name": "stdout",
     "output_type": "stream",
     "text": [
      "4e\n"
     ]
    }
   ],
   "source": [
    "animals=[\"cheetah\", \"lion\", \"tiger\", \"tiger\"]\n",
    "total = 0\n",
    "for i in animals:\n",
    "    for v in i:\n",
    "        if v == \"e\":\n",
    "            total+=1\n",
    "print(str(total)+\"e\")\n",
    "        "
   ]
  },
  {
   "cell_type": "code",
   "execution_count": null,
   "id": "rental-ancient",
   "metadata": {},
   "outputs": [],
   "source": []
  }
 ],
 "metadata": {
  "kernelspec": {
   "display_name": "Python 3",
   "language": "python",
   "name": "python3"
  },
  "language_info": {
   "codemirror_mode": {
    "name": "ipython",
    "version": 3
   },
   "file_extension": ".py",
   "mimetype": "text/x-python",
   "name": "python",
   "nbconvert_exporter": "python",
   "pygments_lexer": "ipython3",
   "version": "3.9.2"
  }
 },
 "nbformat": 4,
 "nbformat_minor": 5
}
