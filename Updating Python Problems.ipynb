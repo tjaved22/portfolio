{
 "cells": [
  {
   "cell_type": "code",
   "execution_count": 27,
   "id": "selected-bowling",
   "metadata": {},
   "outputs": [],
   "source": [
    "#Calculate the Profit\n"
   ]
  },
  {
   "cell_type": "code",
   "execution_count": 25,
   "id": "organic-volleyball",
   "metadata": {},
   "outputs": [
    {
     "name": "stdout",
     "output_type": "stream",
     "text": [
      "14796\n",
      "32411\n"
     ]
    }
   ],
   "source": [
    "profit = [{\"cost_price\": 32.67, \n",
    "           \"sell_price\": 45.00, \n",
    "           \"inventory\": 1200},{\n",
    "  \"cost_price\": 225.89,\n",
    "  \"sell_price\": 550.00,\n",
    "  \"inventory\": 100\n",
    "}]\n",
    "\n",
    "\n",
    "\n",
    "for i in profit:\n",
    "    x= i[\"cost_price\"]\n",
    "    y= i[\"sell_price\"]\n",
    "    u= i[\"inventory\"]\n",
    "    amount_of_profit = (y-x)*u\n",
    "    print(round(amount_of_profit))\n",
    "\n"
   ]
  },
  {
   "cell_type": "code",
   "execution_count": 26,
   "id": "instrumental-alloy",
   "metadata": {},
   "outputs": [
    {
     "name": "stdout",
     "output_type": "stream",
     "text": [
      "14796\n",
      "32411\n"
     ]
    }
   ],
   "source": [
    "profit = [{\"cost_price\": 32.67, \n",
    "           \"sell_price\": 45.00, \n",
    "           \"inventory\": 1200},{\n",
    "  \"cost_price\": 225.89,\n",
    "  \"sell_price\": 550.00,\n",
    "  \"inventory\": 100\n",
    "}]\n",
    "\n",
    "\n",
    "\n",
    "    \n",
    "def amount_of_profit (total_sales, total_cost):\n",
    "    return total_sales - total_cost\n",
    "\n",
    "\n",
    "for i in profit:\n",
    "    print(round(amount_of_profit( total_sales = i[\"sell_price\"], total_cost = i[\"cost_price\"])*i[\"inventory\"]))"
   ]
  },
  {
   "cell_type": "code",
   "execution_count": null,
   "id": "neither-syria",
   "metadata": {},
   "outputs": [],
   "source": []
  }
 ],
 "metadata": {
  "kernelspec": {
   "display_name": "Python 3",
   "language": "python",
   "name": "python3"
  },
  "language_info": {
   "codemirror_mode": {
    "name": "ipython",
    "version": 3
   },
   "file_extension": ".py",
   "mimetype": "text/x-python",
   "name": "python",
   "nbconvert_exporter": "python",
   "pygments_lexer": "ipython3",
   "version": "3.9.2"
  }
 },
 "nbformat": 4,
 "nbformat_minor": 5
}
